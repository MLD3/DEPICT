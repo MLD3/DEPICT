{
 "cells": [
  {
   "cell_type": "code",
   "execution_count": 10,
   "id": "1e2857b2-8a48-48c1-a321-f84391527de3",
   "metadata": {},
   "outputs": [],
   "source": [
    "import pandas as pd\n",
    "pd.options.mode.chained_assignment = None  # default='warn'\n",
    "from torch.utils.data import Dataset, DataLoader, random_split\n",
    "import torch\n",
    "import torchvision\n",
    "import os\n",
    "from torchvision.models.densenet import densenet121, DenseNet121_Weights\n",
    "import torch.nn as nn\n",
    "import numpy as np\n",
    "import torch\n",
    "# from models.checker_model import CheckerModel\n",
    "from sklearn import metrics\n",
    "import os\n",
    "from tqdm.auto import tqdm\n",
    "from diffusers import StableDiffusionPipeline, EulerDiscreteScheduler\n",
    "import yaml\n",
    "import shutil \n",
    "from joblib import Parallel, delayed\n",
    "from PIL import Image\n",
    "from torch.utils.data import Dataset, DataLoader, random_split\n",
    "import torchvision.transforms as transforms\n",
    "from torchvision.datasets.folder import default_loader\n",
    "from skimage import io\n",
    "from torchvision.datasets.folder import default_loader\n",
    "\n",
    "#Load config and setup environment \n",
    "def load_config(config_path):\n",
    "    with open(config_path, 'r') as file:\n",
    "        config = yaml.safe_load(file)\n",
    "    return config\n",
    "path_to_config = 'config.yaml'\n",
    "# paths variable holds all paths from the config\n",
    "paths = load_config(path_to_config)\n",
    "# chooce concept \n",
    "primary_concept = \"person\"\n",
    "#Choose GPU \n",
    "gpu = \"7\"\n",
    "device = f\"cuda:{gpu}\" if torch.cuda.is_available() else \"cpu\"\n",
    "coco_concepts = paths[\"coco_concepts\"]\n",
    "                     "
   ]
  },
  {
   "cell_type": "code",
   "execution_count": 11,
   "id": "b9add761-6258-4dd3-8058-d003274ba6d0",
   "metadata": {},
   "outputs": [],
   "source": [
    "def get_auroc(loader,model):\n",
    "    y_true, y_score = [], []\n",
    "    model.eval()\n",
    "    with torch.no_grad():\n",
    "        for X, y, id in loader:\n",
    "            X = X.to(device).half()\n",
    "            y = y.to(device).half()\n",
    "            output = model(X)\n",
    "            y_true.append(y)\n",
    "            y_score.append(output.data)\n",
    "    y_true = torch.cat(y_true)\n",
    "    y_score = torch.cat(y_score)\n",
    "    auroc = metrics.roc_auc_score(y_true.cpu(), y_score.cpu(), average=None)\n",
    "    return auroc \n",
    "    \n",
    "class TargetModel(nn.Module):\n",
    "    def __init__(self,device, primary_or_mixed):\n",
    "        super().__init__()\n",
    "        self.primary_or_mixed = primary_or_mixed\n",
    "        all_model = densenet121(weights=DenseNet121_Weights.DEFAULT)\n",
    "        all_model.classifier = torch.nn.Linear(all_model.classifier.in_features, 80)\n",
    "        \n",
    "        # Freeze all layers\n",
    "        for param in all_model.parameters():\n",
    "            param.requires_grad = False\n",
    "\n",
    "        self.all_model = all_model\n",
    "        self.lin = nn.Linear(15,1,device=device)\n",
    "        \n",
    "    def forward(self, x):\n",
    "        x = self.all_model(x)\n",
    "        idxs_to_use = [0, 39, 41, 45, 56, 57, 59, 60, 62, 63, 65, 67, 69, 71, 73]\n",
    "        concept_predictions = x[:,idxs_to_use]\n",
    "        x = self.lin(concept_predictions)\n",
    "        x = torch.squeeze(x)\n",
    "        return x \n",
    "        \n",
    "class ConceptClassifier(nn.Module):\n",
    "    def __init__(self,device,model_path):\n",
    "        super(ConceptClassifier, self).__init__()\n",
    "        model_state_dict = torch.load(model_path, map_location=device)['state_dict']\n",
    "        all_model = densenet121(weights=DenseNet121_Weights.DEFAULT)\n",
    "        all_model.classifier = torch.nn.Linear(all_model.classifier.in_features, 80)\n",
    "        #model put on device by loading state dict with map_location = device above \n",
    "        all_model.load_state_dict(model_state_dict)\n",
    "        self.all_model = all_model\n",
    "    def forward(self, x):\n",
    "        x = self.all_model(x)\n",
    "        idxs_to_use = [0, 39, 41, 45, 56, 57, 59, 60, 62, 63, 65, 67, 69, 71, 73]\n",
    "        x = x[:,idxs_to_use]\n",
    "        return x\n",
    "\n",
    "class Dataset(Dataset):\n",
    "    def __init__(self, df, outcome, n_outcome):\n",
    "        self.df = df\n",
    "        self.outcome = outcome\n",
    "        self.n_outcome = n_outcome\n",
    "        trans = [transforms.ToTensor(),\n",
    "                transforms.Resize(256),\n",
    "                transforms.CenterCrop(256),\n",
    "                transforms.Normalize([0.485, 0.456, 0.406], std=[0.229, 0.224, 0.225])]\n",
    "        self.trans = transforms.Compose(trans)\n",
    "    def __len__(self):\n",
    "        return len(self.df)\n",
    "    def __getitem__(self, idx):\n",
    "        row = self.df.iloc[idx]\n",
    "        img = default_loader(self.df.loc[idx, \"file_name\"])\n",
    "        img = self.trans(img)\n",
    "        if self.n_outcome > 1:\n",
    "            label = self.df.loc[idx, self.outcome]\n",
    "        else:\n",
    "            label = row[self.outcome]\n",
    "        return img, torch.tensor(label), row.image_id"
   ]
  },
  {
   "cell_type": "code",
   "execution_count": 12,
   "id": "3574f871-01e6-4aa9-a396-4315527fa3e2",
   "metadata": {},
   "outputs": [
    {
     "name": "stdout",
     "output_type": "stream",
     "text": [
      "Done Loading Models\n"
     ]
    }
   ],
   "source": [
    "# Load concept classifier \n",
    "concept_model_path = \"../\" + paths['primary_concept_model_path']\n",
    "concept_classifier = ConceptClassifier(device,concept_model_path)\n",
    "concept_classifier = concept_classifier.half().to(device)\n",
    "concept_classifier.eval()\n",
    "\n",
    "# Load in target model\n",
    "target_model = TargetModel(device, \"primary\")\n",
    "\n",
    "# Load Saved Weights\n",
    "model_path_df = pd.read_csv('../best_primary_models.csv', index_col = 'feature')\n",
    "model_path = \"../\" + model_path_df.loc[primary_concept,'model_path']\n",
    "checkpoint = torch.load(model_path, map_location=device)\n",
    "target_model.load_state_dict(checkpoint['state_dict'])\n",
    "target_model = target_model.half().to(device)\n",
    "target_model.eval()\n",
    "print(f\"Done Loading Models\")"
   ]
  },
  {
   "cell_type": "code",
   "execution_count": 13,
   "id": "d6a5018c-73ca-4590-be44-a9428754accd",
   "metadata": {},
   "outputs": [
    {
     "data": {
      "text/plain": [
       "(0.9679133607705037,\n",
       " array([0.94776507, 0.85804426, 0.86264872, 0.91123446, 0.86308396,\n",
       "        0.91461071, 0.93839272, 0.91709591, 0.93371677, 0.96753389,\n",
       "        0.85929895, 0.8838668 , 0.97762908, 0.97410122, 0.87333966]))"
      ]
     },
     "execution_count": 13,
     "metadata": {},
     "output_type": "execute_result"
    }
   ],
   "source": [
    "# read in dataset \n",
    "\n",
    "\n",
    "        \n",
    "df = pd.read_csv(\"metadata/orig.csv\")\n",
    "df = df[[\"image_id\", \"file_name\", \"home or hotel\", *coco_concepts]]\n",
    "# eval on real images \n",
    "realDataset = Dataset(df, \"home or hotel\", 1)\n",
    "realLoader = DataLoader(realDataset, batch_size=32, shuffle=False, num_workers=4)\n",
    "real_auroc = get_auroc(realLoader, target_model)\n",
    "\n",
    "# check concepts \n",
    "realDataset = Dataset(df, coco_concepts, len(coco_concepts))\n",
    "realLoader = DataLoader(realDataset, batch_size=32, shuffle=False, num_workers=1)\n",
    "concept_real_auroc = get_auroc(realLoader, concept_classifier)\n",
    "real_auroc, concept_real_auroc"
   ]
  },
  {
   "cell_type": "code",
   "execution_count": 14,
   "id": "73480940-8c65-487f-93dc-ae303ee40a27",
   "metadata": {},
   "outputs": [
    {
     "data": {
      "text/plain": [
       "(0.9059304595018881,\n",
       " array([0.91538143, 0.82772129, 0.83800918, 0.87779751, 0.87089646,\n",
       "        0.9166545 , 0.91917805, 0.88056542, 0.96536017, 0.95672847,\n",
       "        0.86028026, 0.87009962, 0.92267552, 0.92376963, 0.88006009]))"
      ]
     },
     "execution_count": 14,
     "metadata": {},
     "output_type": "execute_result"
    }
   ],
   "source": [
    "# read in dataset \n",
    "df = pd.read_csv(\"metadata/orig.csv\")\n",
    "df = df[[\"image_id\", \"file_name\", \"home or hotel\", *coco_concepts]]\n",
    "# eval on generated images \n",
    "df[\"file_name\"] = df[\"image_id\"].apply(lambda x: f\"images/perm_0/perm_gen_no_perm/{x}.png\")\n",
    "genDataset = Dataset(df, \"home or hotel\", 1)\n",
    "genLoader = DataLoader(genDataset, batch_size=32, shuffle=False, num_workers=4)\n",
    "# eval on generated images \n",
    "gen_auroc = get_auroc(genLoader, target_model) \n",
    "\n",
    "# check concepts \n",
    "genDataset = Dataset(df, coco_concepts, len(coco_concepts))\n",
    "genLoader = DataLoader(genDataset, batch_size=32, shuffle=False, num_workers=1)\n",
    "concept_gen_auroc = get_auroc(genLoader, concept_classifier)\n",
    "gen_auroc, concept_gen_auroc"
   ]
  },
  {
   "cell_type": "code",
   "execution_count": 15,
   "id": "5de6ff31-470a-4654-a402-b6bec8debc60",
   "metadata": {
    "scrolled": true
   },
   "outputs": [
    {
     "name": "stdout",
     "output_type": "stream",
     "text": [
      "Checking Effective Generation\n"
     ]
    },
    {
     "data": {
      "text/html": [
       "<div>\n",
       "<style scoped>\n",
       "    .dataframe tbody tr th:only-of-type {\n",
       "        vertical-align: middle;\n",
       "    }\n",
       "\n",
       "    .dataframe tbody tr th {\n",
       "        vertical-align: top;\n",
       "    }\n",
       "\n",
       "    .dataframe thead th {\n",
       "        text-align: right;\n",
       "    }\n",
       "</style>\n",
       "<table border=\"1\" class=\"dataframe\">\n",
       "  <thead>\n",
       "    <tr style=\"text-align: right;\">\n",
       "      <th></th>\n",
       "      <th>home or hotel</th>\n",
       "      <th>person</th>\n",
       "      <th>bottle</th>\n",
       "      <th>cup</th>\n",
       "      <th>bowl</th>\n",
       "      <th>chair</th>\n",
       "      <th>couch</th>\n",
       "      <th>bed</th>\n",
       "      <th>dining table</th>\n",
       "      <th>tv</th>\n",
       "      <th>laptop</th>\n",
       "      <th>remote</th>\n",
       "      <th>cell phone</th>\n",
       "      <th>oven</th>\n",
       "      <th>sink</th>\n",
       "      <th>book</th>\n",
       "    </tr>\n",
       "  </thead>\n",
       "  <tbody>\n",
       "    <tr>\n",
       "      <th>Real Image</th>\n",
       "      <td>0.97</td>\n",
       "      <td>0.95</td>\n",
       "      <td>0.86</td>\n",
       "      <td>0.86</td>\n",
       "      <td>0.91</td>\n",
       "      <td>0.86</td>\n",
       "      <td>0.91</td>\n",
       "      <td>0.94</td>\n",
       "      <td>0.92</td>\n",
       "      <td>0.93</td>\n",
       "      <td>0.97</td>\n",
       "      <td>0.86</td>\n",
       "      <td>0.88</td>\n",
       "      <td>0.98</td>\n",
       "      <td>0.97</td>\n",
       "      <td>0.87</td>\n",
       "    </tr>\n",
       "    <tr>\n",
       "      <th>Generated Images</th>\n",
       "      <td>0.91</td>\n",
       "      <td>0.92</td>\n",
       "      <td>0.83</td>\n",
       "      <td>0.84</td>\n",
       "      <td>0.88</td>\n",
       "      <td>0.87</td>\n",
       "      <td>0.92</td>\n",
       "      <td>0.92</td>\n",
       "      <td>0.88</td>\n",
       "      <td>0.97</td>\n",
       "      <td>0.96</td>\n",
       "      <td>0.86</td>\n",
       "      <td>0.87</td>\n",
       "      <td>0.92</td>\n",
       "      <td>0.92</td>\n",
       "      <td>0.88</td>\n",
       "    </tr>\n",
       "  </tbody>\n",
       "</table>\n",
       "</div>"
      ],
      "text/plain": [
       "                  home or hotel  person  bottle   cup  bowl  chair  couch  \\\n",
       "Real Image                 0.97    0.95    0.86  0.86  0.91   0.86   0.91   \n",
       "Generated Images           0.91    0.92    0.83  0.84  0.88   0.87   0.92   \n",
       "\n",
       "                   bed  dining table    tv  laptop  remote  cell phone  oven  \\\n",
       "Real Image        0.94          0.92  0.93    0.97    0.86        0.88  0.98   \n",
       "Generated Images  0.92          0.88  0.97    0.96    0.86        0.87  0.92   \n",
       "\n",
       "                  sink  book  \n",
       "Real Image        0.97  0.87  \n",
       "Generated Images  0.92  0.88  "
      ]
     },
     "execution_count": 15,
     "metadata": {},
     "output_type": "execute_result"
    }
   ],
   "source": [
    "print(\"Checking Effective Generation\")\n",
    "baseline_aurocs = pd.DataFrame([[real_auroc, *concept_real_auroc], [gen_auroc, *concept_gen_auroc]], columns = [\"home or hotel\", *coco_concepts], index = [\"Real Image\", \"Generated Images\"]).round(2)\n",
    "baseline_aurocs"
   ]
  },
  {
   "cell_type": "code",
   "execution_count": 17,
   "id": "0b3c8fd1-6dde-465f-bf0f-a77a86683df8",
   "metadata": {},
   "outputs": [
    {
     "name": "stdout",
     "output_type": "stream",
     "text": [
      "hi\n",
      "CPU times: user 0 ns, sys: 60 µs, total: 60 µs\n",
      "Wall time: 73 µs\n"
     ]
    }
   ],
   "source": [
    "%%time\n",
    "print(\"hi\")"
   ]
  },
  {
   "cell_type": "code",
   "execution_count": 20,
   "id": "2e928e41-b35b-4ef3-87b0-de251cba7e8c",
   "metadata": {},
   "outputs": [
    {
     "data": {
      "application/vnd.jupyter.widget-view+json": {
       "model_id": "a2b4cf112c9d4822b09eeb1a2e9dfb2a",
       "version_major": 2,
       "version_minor": 0
      },
      "text/plain": [
       "  0%|          | 0/25 [00:00<?, ?it/s]"
      ]
     },
     "metadata": {},
     "output_type": "display_data"
    },
    {
     "data": {
      "application/vnd.jupyter.widget-view+json": {
       "model_id": "e845e5cc63a847a28f10d86be2dc4b99",
       "version_major": 2,
       "version_minor": 0
      },
      "text/plain": [
       "  0%|          | 0/25 [00:00<?, ?it/s]"
      ]
     },
     "metadata": {},
     "output_type": "display_data"
    },
    {
     "data": {
      "application/vnd.jupyter.widget-view+json": {
       "model_id": "da1f10cb467c4ad986dccfa88715f624",
       "version_major": 2,
       "version_minor": 0
      },
      "text/plain": [
       "  0%|          | 0/25 [00:00<?, ?it/s]"
      ]
     },
     "metadata": {},
     "output_type": "display_data"
    },
    {
     "data": {
      "application/vnd.jupyter.widget-view+json": {
       "model_id": "ad3d7402e6834deaacbf913d0ee5af65",
       "version_major": 2,
       "version_minor": 0
      },
      "text/plain": [
       "  0%|          | 0/25 [00:00<?, ?it/s]"
      ]
     },
     "metadata": {},
     "output_type": "display_data"
    },
    {
     "data": {
      "application/vnd.jupyter.widget-view+json": {
       "model_id": "ba68a123eae744b1b4078c9a37d42647",
       "version_major": 2,
       "version_minor": 0
      },
      "text/plain": [
       "  0%|          | 0/25 [00:00<?, ?it/s]"
      ]
     },
     "metadata": {},
     "output_type": "display_data"
    },
    {
     "data": {
      "application/vnd.jupyter.widget-view+json": {
       "model_id": "f2c8178828064acebf0a4701c4be0950",
       "version_major": 2,
       "version_minor": 0
      },
      "text/plain": [
       "  0%|          | 0/25 [00:00<?, ?it/s]"
      ]
     },
     "metadata": {},
     "output_type": "display_data"
    },
    {
     "data": {
      "application/vnd.jupyter.widget-view+json": {
       "model_id": "4ff3a627c5dc4a2cbb0e003c416e588f",
       "version_major": 2,
       "version_minor": 0
      },
      "text/plain": [
       "  0%|          | 0/25 [00:00<?, ?it/s]"
      ]
     },
     "metadata": {},
     "output_type": "display_data"
    },
    {
     "data": {
      "application/vnd.jupyter.widget-view+json": {
       "model_id": "4fdae23e4fdb49c3aee0cdd6e69c739d",
       "version_major": 2,
       "version_minor": 0
      },
      "text/plain": [
       "  0%|          | 0/25 [00:00<?, ?it/s]"
      ]
     },
     "metadata": {},
     "output_type": "display_data"
    },
    {
     "data": {
      "application/vnd.jupyter.widget-view+json": {
       "model_id": "9005176377804849a17d4b28734af17d",
       "version_major": 2,
       "version_minor": 0
      },
      "text/plain": [
       "  0%|          | 0/25 [00:00<?, ?it/s]"
      ]
     },
     "metadata": {},
     "output_type": "display_data"
    },
    {
     "data": {
      "application/vnd.jupyter.widget-view+json": {
       "model_id": "6d8d62f36c8f4c048102d8c8a663844f",
       "version_major": 2,
       "version_minor": 0
      },
      "text/plain": [
       "  0%|          | 0/25 [00:00<?, ?it/s]"
      ]
     },
     "metadata": {},
     "output_type": "display_data"
    },
    {
     "data": {
      "application/vnd.jupyter.widget-view+json": {
       "model_id": "8b0f87e29ae94094bfa0867b1712e49a",
       "version_major": 2,
       "version_minor": 0
      },
      "text/plain": [
       "  0%|          | 0/25 [00:00<?, ?it/s]"
      ]
     },
     "metadata": {},
     "output_type": "display_data"
    },
    {
     "data": {
      "application/vnd.jupyter.widget-view+json": {
       "model_id": "dc77fd83b046425b991f62424a2dd78c",
       "version_major": 2,
       "version_minor": 0
      },
      "text/plain": [
       "  0%|          | 0/25 [00:00<?, ?it/s]"
      ]
     },
     "metadata": {},
     "output_type": "display_data"
    },
    {
     "data": {
      "application/vnd.jupyter.widget-view+json": {
       "model_id": "5cdea24ae0a34d419ca6afe313a9b0a4",
       "version_major": 2,
       "version_minor": 0
      },
      "text/plain": [
       "  0%|          | 0/25 [00:00<?, ?it/s]"
      ]
     },
     "metadata": {},
     "output_type": "display_data"
    },
    {
     "data": {
      "application/vnd.jupyter.widget-view+json": {
       "model_id": "98d8f7eb3e0f4d78b4b2672061dd568e",
       "version_major": 2,
       "version_minor": 0
      },
      "text/plain": [
       "  0%|          | 0/25 [00:00<?, ?it/s]"
      ]
     },
     "metadata": {},
     "output_type": "display_data"
    },
    {
     "data": {
      "application/vnd.jupyter.widget-view+json": {
       "model_id": "82377680e893495aa5a4459ca47e4d7a",
       "version_major": 2,
       "version_minor": 0
      },
      "text/plain": [
       "  0%|          | 0/25 [00:00<?, ?it/s]"
      ]
     },
     "metadata": {},
     "output_type": "display_data"
    },
    {
     "name": "stdout",
     "output_type": "stream",
     "text": [
      "CPU times: user 5min 46s, sys: 4min 20s, total: 10min 6s\n",
      "Wall time: 39min 59s\n"
     ]
    }
   ],
   "source": [
    "%%time\n",
    "\n",
    "# evaluate on permutations \n",
    "concept_to_perm = {}\n",
    "changes = []\n",
    "for concept in coco_concepts:\n",
    "    concept_perm_aurocs = []\n",
    "    for perm_num in tqdm(range(25)): \n",
    "        # eval on generated images \n",
    "        df[\"file_name\"] =  df[\"image_id\"].apply(lambda x: f\"images/perm_{perm_num}/perm_gen_{concept}/{x}.png\")\n",
    "        genDataset = Dataset(df, \"home or hotel\", 1)\n",
    "        genLoader = DataLoader(genDataset, batch_size=200, shuffle=False, num_workers=4)\n",
    "        # eval on generated images \n",
    "        gen_auroc = get_auroc(genLoader, target_model) \n",
    "        \n",
    "        # check concepts \n",
    "        genDataset = Dataset(df, coco_concepts, len(coco_concepts))\n",
    "        genLoader = DataLoader(genDataset, batch_size=50, shuffle=False, num_workers=5)\n",
    "        concept_gen_auroc = get_auroc(genLoader, concept_classifier)\n",
    "        concept_perm_aurocs.append([gen_auroc, *concept_gen_auroc])\n",
    "    concept_to_perm[concept] = concept_perm_aurocs\n",
    "    changes.append(np.abs(np.array(baseline_aurocs.iloc[1].values - np.array(concept_to_perm[concept]))))"
   ]
  },
  {
   "cell_type": "code",
   "execution_count": 21,
   "id": "1c570d41-7085-492a-b31f-c1e841e80c10",
   "metadata": {
    "execution": {
     "iopub.execute_input": "2024-07-02T14:41:28.485516Z",
     "iopub.status.busy": "2024-07-02T14:41:28.485065Z",
     "iopub.status.idle": "2024-07-02T14:41:28.502169Z",
     "shell.execute_reply": "2024-07-02T14:41:28.501481Z",
     "shell.execute_reply.started": "2024-07-02T14:41:28.485475Z"
    }
   },
   "outputs": [],
   "source": [
    "# save intermediate results so you don't have to rerun them! \n",
    "import pickle\n",
    "pickle.dump(concept_to_perm, open(\"concept_to_perm.p\", \"wb\"))\n",
    "pickle.dump(changes, open(\"changes.p\", \"wb\"))"
   ]
  },
  {
   "cell_type": "code",
   "execution_count": 22,
   "id": "4ae495a2-ae2b-448d-a9e6-57c8f082fd1c",
   "metadata": {
    "execution": {
     "iopub.execute_input": "2024-07-02T14:41:33.079400Z",
     "iopub.status.busy": "2024-07-02T14:41:33.078980Z",
     "iopub.status.idle": "2024-07-02T14:41:33.574905Z",
     "shell.execute_reply": "2024-07-02T14:41:33.574293Z",
     "shell.execute_reply.started": "2024-07-02T14:41:33.079369Z"
    }
   },
   "outputs": [
    {
     "name": "stdout",
     "output_type": "stream",
     "text": [
      "Appendix Figure 2: Independent permutation\n"
     ]
    },
    {
     "data": {
      "text/plain": [
       "Text(0.5, 0, 'Concept Classifier Targets')"
      ]
     },
     "execution_count": 22,
     "metadata": {},
     "output_type": "execute_result"
    },
    {
     "data": {
      "image/png": "[encoded data removed]",
      "text/plain": [
       "<Figure size 400x400 with 1 Axes>"
      ]
     },
     "metadata": {
      "needs_background": "light"
     },
     "output_type": "display_data"
    }
   ],
   "source": [
    "print(\"Appendix Figure 2: Independent permutation\")\n",
    "import matplotlib.pyplot as plt\n",
    "import numpy as np\n",
    "import matplotlib\n",
    "import matplotlib as mpl\n",
    "import matplotlib.font_manager\n",
    "import matplotlib.pyplot as plt\n",
    "plt.rcParams[\"font.family\"] = \"Times New Roman\"\n",
    "plt.figure(figsize=(5, 5), dpi=80)\n",
    "\n",
    "stats = np.array(changes).mean(axis = 1)[:,1:]\n",
    "\n",
    "plt.imshow(stats, cmap='magma')\n",
    "\n",
    "# Show all ticks and label them with the respective list entries\n",
    "plt.xticks(np.arange(len(coco_concepts)), labels=coco_concepts, fontsize = 15, rotation = 90)\n",
    "plt.yticks(np.arange(len(coco_concepts)), labels=coco_concepts, fontsize = 15)\n",
    "# Loop over data dimensions and create text annotations.\n",
    "for i in range(len(coco_concepts)):\n",
    "    for j in range(len(coco_concepts)):\n",
    "        if i != j:\n",
    "            text = plt.text(j, i, \"{:.0f}\".format(stats[i, j]*100),\n",
    "                       ha=\"center\", va=\"center\", color=\"w\", fontsize = 15)\n",
    "        else:\n",
    "            text = plt.text(j, i, \"{:.0f}\".format(stats[i, j]*100),\n",
    "                       ha=\"center\", va=\"center\", color=\"black\", fontsize = 15)\n",
    "# plt.title(\"Diffusion-Generated Permutation\", fontsize = 40)\n",
    "plt.ylabel(\"Permuted Concept\", fontsize = 30)\n",
    "plt.xlabel(\"Concept Classifier Targets\", fontsize = 30)\n"
   ]
  },
  {
   "cell_type": "code",
   "execution_count": 48,
   "id": "bd4565ae-75f9-43eb-9216-833d28989248",
   "metadata": {
    "execution": {
     "iopub.execute_input": "2024-07-02T14:47:44.310783Z",
     "iopub.status.busy": "2024-07-02T14:47:44.310356Z",
     "iopub.status.idle": "2024-07-02T14:47:44.452279Z",
     "shell.execute_reply": "2024-07-02T14:47:44.451454Z",
     "shell.execute_reply.started": "2024-07-02T14:47:44.310752Z"
    }
   },
   "outputs": [
    {
     "data": {
      "image/png": "[encoded data removed]",
      "text/plain": [
       "<Figure size 432x288 with 1 Axes>"
      ]
     },
     "metadata": {
      "needs_background": "light"
     },
     "output_type": "display_data"
    }
   ],
   "source": [
    "# Plot concept ranking \n",
    "_ = plt.boxplot(np.array(changes)[:,:,1].T, patch_artist=True, boxprops=dict(facecolor=\"pink\"), showfliers=False,  labels = coco_concepts)\n",
    "plt.xticks(rotation = 90, fontsize = 20)\n",
    "plt.ylabel(\"AUROC change\", fontsize = 30)\n",
    "plt.xlabel(\"Concept\", fontsize = 30) \n",
    "plt.title(\"Concept ranking\", fontsize = 40)\n",
    "plt.show()"
   ]
  }
 ],
 "metadata": {
  "kernelspec": {
   "display_name": "Python 3 (ipykernel)",
   "language": "python",
   "name": "python3"
  },
  "language_info": {
   "codemirror_mode": {
    "name": "ipython",
    "version": 3
   },
   "file_extension": ".py",
   "mimetype": "text/x-python",
   "name": "python",
   "nbconvert_exporter": "python",
   "pygments_lexer": "ipython3",
   "version": "3.8.10"
  }
 },
 "nbformat": 4,
 "nbformat_minor": 5
}
